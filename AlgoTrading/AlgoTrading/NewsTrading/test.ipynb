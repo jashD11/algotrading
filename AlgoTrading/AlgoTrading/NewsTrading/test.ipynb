{
 "cells": [
  {
   "cell_type": "code",
   "execution_count": 2,
   "metadata": {},
   "outputs": [
    {
     "data": {
      "text/plain": [
       "'\\ntasks that we need to do are:\\n1. Data collection\\n2. Data preprocessing\\n3. Model Selection\\n4. Training the model - online vs offline models \\n5. Backtesting \\n6. Live deployement\\n\\nBut since we first need to create a simple working model, we will just focus on doing \\nsentiment analysis first\\nSo we need to collect the tools for doing sentiment analysis\\n'"
      ]
     },
     "execution_count": 2,
     "metadata": {},
     "output_type": "execute_result"
    }
   ],
   "source": [
    "'''\n",
    "tasks that we need to do are:\n",
    "1. Data collection\n",
    "2. Data preprocessing\n",
    "3. Model Selection\n",
    "4. Training the model - online vs offline models \n",
    "5. Backtesting \n",
    "6. Live deployement\n",
    "\n",
    "But since we first need to create a simple working model, we will just focus on doing \n",
    "sentiment analysis first\n",
    "So we need to collect the tools for doing sentiment analysis\n",
    "'''"
   ]
  },
  {
   "cell_type": "code",
   "execution_count": 3,
   "metadata": {},
   "outputs": [
    {
     "data": {
      "text/plain": [
       "'\\nTask1: To create a simple sentiment analyser\\nAll the news APIs that make our lives easier are not available for the indian markets\\nSo need to scrap the data from the web. We will be using the library BeautifulSoup for\\nweb scraping and textblob to do sentiment analysis\\n'"
      ]
     },
     "execution_count": 3,
     "metadata": {},
     "output_type": "execute_result"
    }
   ],
   "source": [
    "'''\n",
    "Task1: To create a simple sentiment analyser\n",
    "All the news APIs that make our lives easier are not available for the indian markets\n",
    "So need to scrap the data from the web. We will be using the library BeautifulSoup for\n",
    "web scraping and textblob to do sentiment analysis\n",
    "'''"
   ]
  },
  {
   "cell_type": "code",
   "execution_count": null,
   "metadata": {},
   "outputs": [],
   "source": []
  },
  {
   "cell_type": "code",
   "execution_count": 3,
   "metadata": {},
   "outputs": [
    {
     "ename": "ModuleNotFoundError",
     "evalue": "No module named 'textblob'",
     "output_type": "error",
     "traceback": [
      "\u001b[0;31m---------------------------------------------------------------------------\u001b[0m",
      "\u001b[0;31mModuleNotFoundError\u001b[0m                       Traceback (most recent call last)",
      "Cell \u001b[0;32mIn[3], line 3\u001b[0m\n\u001b[1;32m      1\u001b[0m \u001b[38;5;28;01mimport\u001b[39;00m \u001b[38;5;21;01mrequests\u001b[39;00m\n\u001b[1;32m      2\u001b[0m \u001b[38;5;28;01mfrom\u001b[39;00m \u001b[38;5;21;01mbs4\u001b[39;00m \u001b[38;5;28;01mimport\u001b[39;00m BeautifulSoup\n\u001b[0;32m----> 3\u001b[0m \u001b[38;5;28;01mfrom\u001b[39;00m \u001b[38;5;21;01mtextblob\u001b[39;00m \u001b[38;5;28;01mimport\u001b[39;00m TextBlob\n",
      "\u001b[0;31mModuleNotFoundError\u001b[0m: No module named 'textblob'"
     ]
    }
   ],
   "source": [
    "import requests\n",
    "from bs4 import BeautifulSoup\n",
    "from textblob import TextBlob"
   ]
  },
  {
   "cell_type": "code",
   "execution_count": null,
   "metadata": {},
   "outputs": [],
   "source": [
    "'''\n",
    "Testing whether scraping would work\n",
    "'''\n",
    "URL = 'https://www.moneycontrol.com/news/tags/companies.html'\n",
    "STORE_FILE = 'latest_news.txt'\n",
    "\n",
    "def fetch_news(url):\n",
    "    response = requests.get(url)\n",
    "    soup = BeautifulSoup(response.text, 'html.parser')\n",
    "    news_container = soup.find('div', class_='topictab_cnot')\n",
    "    item = news_container.find('div', class_='topictabpane')\n",
    "    hmm = item.find('li', class_= 'clearfix')\n",
    "    latest_news = hmm.find('h2').text.strip()\n",
    "    news_link = hmm.find('a')['href']\n",
    "    article_response = requests.get(news_link)\n",
    "    article_soup = BeautifulSoup(article_response.text, 'html.parser')\n",
    "    article_body = article_soup.find('div', class_='content_wrapper arti-flow')\n",
    "    article_text = article_body.get_text(strip=True) if article_body else \"No content found\"\n",
    "    print(article_text)\n",
    "    # print(news_link)\n",
    "    # print(latest_news)\n",
    "    return article_text, news_link\n",
    "\n",
    "def store_and_check_news(news_link):\n",
    "    try:\n",
    "        with open(STORE_FILE, 'r') as file:\n",
    "            last_news = file.read().strip()\n",
    "    except FileNotFoundError:\n",
    "        last_news = ''\n",
    "    if last_news != news_link:\n",
    "        with open(STORE_FILE, 'w') as file:\n",
    "            file.write(news_link)\n",
    "        return True\n",
    "    return False\n",
    "# latest_news, news_link = fetch_news(URL)\n",
    "# if store_and_check_news(news_link):\n",
    "#     print(f\"News found\")\n"
   ]
  },
  {
   "cell_type": "code",
   "execution_count": 6,
   "metadata": {},
   "outputs": [
    {
     "name": "stdout",
     "output_type": "stream",
     "text": [
      "UBS loses another senior India banker with strategy yet unclearUBS Group AG’s India operation is losing another senior executive to competitors, at a time when the firm is still charting its strategy to manage wealth in the country, according to people familiar with the matter.Aditya Goenka, a Mumbai-based managing director in structured lending, is leaving to join HSBC Holdings Plc in its commercial banking business, the people said, asking not to be named as the information is private.Story continues below AdvertisementRemove AdUBS, which exited India’s onshore wealth business about a decade ago, is seeking to lean on the Credit Suisse team it acquired to make a comeback there. While margins in India are slimmer than other markets, the firm sees there is opportunity in managing both the business and personal assets of clients benefiting from the boom in the stock market and economy.Still, even as UBS draws up its plans in India, it has become a hunting ground for wealth managers and banks looking for talent in a fiercely competitive market, the people said. Since news of the UBS takeover broke last year, about half a dozen ex-Credit Suisse executives have left for other firms, according to reporting and calculations by Bloomberg News.Goenka has been at Credit Suisse for more than 11 years, according to his LinkedIn profile. He was previously with Bank of America Corp. for nearly eight years, according to the profile.Related storiesWant continuity of policy supporting EVs for next 8-10 years: Mercedes-Benz India MD & CEOSuzuki Motor launches Rs 340 crore fund 'Next Bharat' to support social impact startupsInox Wind to become debt-free company post Rs 900 crore promoter infusionSpokespeople from UBS and HSBC declined to comment. Goenka didn’t respond to messages seeking comment.At HSBC, Goenka will join his ex-Credit Suisse colleague Rajat Sabharwal who led its equities business in the country until the end of last year, according to his LinkedIn profile. Sabharwal is now in a similar role at HSBC, the profile states.Other Credit Suisse departees are Sudipto Sinha, an executive director, who is now a business head at Angel One Wealth, as well as Sandipan Roy, the head of product development, who is now the chief investment officer at Motilal Oswal Wealth Management Ltd.Story continues below AdvertisementRemove AdStory continues below AdvertisementRemove AdLiechtenstein royal family-backed LGT Wealth India hired veteran relationship manager Ajay Punjabi as well as Chirag Doshi to lead its fixed income business. Vijay Shah, the head of advisory and sales in wealth management, also left the bank to start his own business, according to his LinkedIn profile.Credit Suisse had just over 40 wealth management employees in India, and around 7,000 people overall in the country, a spokesperson at the bank told Bloomberg News in April last year.About a month ago, UBS’ co-head for Asia-Pacific wealth management Jin Yee Young visited India, which she called a key strategic market. The firm is rebuilding in markets such as India, according to its Asia Pacific president Edmund Koh. “It’s a good market for us, but still early days in India, still a lot of heavy lifting to do,” Koh had said.\n",
      "Found\n",
      "Sentiment:  Positive\n",
      "0.035606060606060606\n"
     ]
    }
   ],
   "source": [
    "latest_news, news_link = fetch_news(URL)\n",
    "print(f\"Found\")\n",
    "analysis = TextBlob(latest_news)\n",
    "sentiment = analysis.sentiment.polarity\n",
    "sentiment_status = 'Positive' if sentiment > 0 else \"Negative\" if sentiment < 0 else \"Neutral\"\n",
    "print(\"Sentiment: \", sentiment_status)\n",
    "print(sentiment)\n",
    "\n",
    "#print(f\"Not Found\")"
   ]
  },
  {
   "cell_type": "code",
   "execution_count": 7,
   "metadata": {},
   "outputs": [],
   "source": [
    "'''\n",
    "Now that we have done the sentiment analysis, we want to know what are the stocks \n",
    "associated with this company. Thus we will have to do Named Entity Recognition.\n",
    "Need to match this with the list of NSE-listed companies.\n",
    "We will use the library of spacy for this task\n",
    "\n",
    "'''\n",
    "import spacy"
   ]
  },
  {
   "cell_type": "code",
   "execution_count": null,
   "metadata": {},
   "outputs": [
    {
     "name": "stdout",
     "output_type": "stream",
     "text": [
      "Company: UBS, Sentiment : -0.041666666666666664, Context: UBS loses another senior India banker with strategy yet unclearUBS Group AG’s India operation is losing another senior executive to competitors, at a time when the firm is still charting its strategy to manage wealth in the country, according to people familiar with the matter.\n",
      "Company: Group AG’s, Sentiment : -0.041666666666666664, Context: UBS loses another senior India banker with strategy yet unclearUBS Group AG’s India operation is losing another senior executive to competitors, at a time when the firm is still charting its strategy to manage wealth in the country, according to people familiar with the matter.\n",
      "Company: HSBC Holdings Plc, Sentiment : 0.0, Context: Aditya Goenka, a Mumbai-based managing director in structured lending, is leaving to join HSBC Holdings Plc in its commercial banking business, the people said, asking not to be named as the information is private.\n",
      "Company: AdvertisementRemove AdUBS, Sentiment : 0.0, Context: Story continues below AdvertisementRemove AdUBS, which exited India’s onshore wealth business about a decade ago, is seeking to lean on the Credit Suisse team it acquired to make a comeback there.\n",
      "Company: Credit Suisse, Sentiment : 0.0, Context: Story continues below AdvertisementRemove AdUBS, which exited India’s onshore wealth business about a decade ago, is seeking to lean on the Credit Suisse team it acquired to make a comeback there.\n",
      "Company: UBS, Sentiment : 0.0, Context: Still, even as UBS draws up its plans in India, it has become a hunting ground for wealth managers and banks looking for talent in a fiercely competitive market, the people said.\n",
      "Company: UBS, Sentiment : -0.07291666666666666, Context: Since news of the UBS takeover broke last year, about half a dozen ex-Credit Suisse executives have left for other firms, according to reporting and calculations by Bloomberg News.\n",
      "Company: Bloomberg News, Sentiment : -0.07291666666666666, Context: Since news of the UBS takeover broke last year, about half a dozen ex-Credit Suisse executives have left for other firms, according to reporting and calculations by Bloomberg News.\n",
      "Company: Credit Suisse, Sentiment : 0.5, Context: Goenka has been at Credit Suisse for more than 11 years, according to his LinkedIn profile.\n",
      "Company: Bank of America Corp., Sentiment : -0.033333333333333326, Context: He was previously with Bank of America Corp. for nearly eight years, according to the profile.\n",
      "Company: Mercedes-Benz India MD & CEOSuzuki Motor, Sentiment : 0.056666666666666664, Context: Related storiesWant continuity of policy supporting EVs for next 8-10 years: Mercedes-Benz India MD & CEOSuzuki Motor launches Rs 340 crore fund 'Next Bharat' to support social impact startupsInox Wind to become debt-free company post Rs 900 crore promoter infusionSpokespeople from UBS and HSBC declined to comment.\n",
      "Company: UBS, Sentiment : 0.056666666666666664, Context: Related storiesWant continuity of policy supporting EVs for next 8-10 years: Mercedes-Benz India MD & CEOSuzuki Motor launches Rs 340 crore fund 'Next Bharat' to support social impact startupsInox Wind to become debt-free company post Rs 900 crore promoter infusionSpokespeople from UBS and HSBC declined to comment.\n",
      "Company: HSBC, Sentiment : 0.056666666666666664, Context: Related storiesWant continuity of policy supporting EVs for next 8-10 years: Mercedes-Benz India MD & CEOSuzuki Motor launches Rs 340 crore fund 'Next Bharat' to support social impact startupsInox Wind to become debt-free company post Rs 900 crore promoter infusionSpokespeople from UBS and HSBC declined to comment.\n",
      "Company: HSBC, Sentiment : 0.0, Context: At HSBC, Goenka will join his ex-Credit Suisse colleague Rajat Sabharwal who led its equities business in the country until the end of last year, according to his LinkedIn profile.\n",
      "Company: Sabharwal, Sentiment : 0.0, Context: Sabharwal is now in a similar role at HSBC, the profile states.\n",
      "Company: HSBC, Sentiment : 0.0, Context: Sabharwal is now in a similar role at HSBC, the profile states.\n",
      "Company: Credit Suisse, Sentiment : -0.008333333333333331, Context: Other Credit Suisse departees are Sudipto Sinha, an executive director, who is now a business head at Angel One Wealth, as well as Sandipan Roy, the head of product development, who is now the chief investment officer at Motilal Oswal Wealth Management Ltd.Story continues below AdvertisementRemove AdStory continues below AdvertisementRemove AdLiechtenstein royal family-backed LGT Wealth India hired veteran relationship manager Ajay Punjabi as well as Chirag Doshi to lead its fixed income business.\n",
      "Company: Angel One Wealth, Sentiment : -0.008333333333333331, Context: Other Credit Suisse departees are Sudipto Sinha, an executive director, who is now a business head at Angel One Wealth, as well as Sandipan Roy, the head of product development, who is now the chief investment officer at Motilal Oswal Wealth Management Ltd.Story continues below AdvertisementRemove AdStory continues below AdvertisementRemove AdLiechtenstein royal family-backed LGT Wealth India hired veteran relationship manager Ajay Punjabi as well as Chirag Doshi to lead its fixed income business.\n",
      "Company: Motilal Oswal Wealth Management Ltd.Story, Sentiment : -0.008333333333333331, Context: Other Credit Suisse departees are Sudipto Sinha, an executive director, who is now a business head at Angel One Wealth, as well as Sandipan Roy, the head of product development, who is now the chief investment officer at Motilal Oswal Wealth Management Ltd.Story continues below AdvertisementRemove AdStory continues below AdvertisementRemove AdLiechtenstein royal family-backed LGT Wealth India hired veteran relationship manager Ajay Punjabi as well as Chirag Doshi to lead its fixed income business.\n",
      "Company: AdvertisementRemove AdStory, Sentiment : -0.008333333333333331, Context: Other Credit Suisse departees are Sudipto Sinha, an executive director, who is now a business head at Angel One Wealth, as well as Sandipan Roy, the head of product development, who is now the chief investment officer at Motilal Oswal Wealth Management Ltd.Story continues below AdvertisementRemove AdStory continues below AdvertisementRemove AdLiechtenstein royal family-backed LGT Wealth India hired veteran relationship manager Ajay Punjabi as well as Chirag Doshi to lead its fixed income business.\n",
      "Company: AdvertisementRemove AdLiechtenstein, Sentiment : -0.008333333333333331, Context: Other Credit Suisse departees are Sudipto Sinha, an executive director, who is now a business head at Angel One Wealth, as well as Sandipan Roy, the head of product development, who is now the chief investment officer at Motilal Oswal Wealth Management Ltd.Story continues below AdvertisementRemove AdStory continues below AdvertisementRemove AdLiechtenstein royal family-backed LGT Wealth India hired veteran relationship manager Ajay Punjabi as well as Chirag Doshi to lead its fixed income business.\n",
      "Company: LGT Wealth, Sentiment : -0.008333333333333331, Context: Other Credit Suisse departees are Sudipto Sinha, an executive director, who is now a business head at Angel One Wealth, as well as Sandipan Roy, the head of product development, who is now the chief investment officer at Motilal Oswal Wealth Management Ltd.Story continues below AdvertisementRemove AdStory continues below AdvertisementRemove AdLiechtenstein royal family-backed LGT Wealth India hired veteran relationship manager Ajay Punjabi as well as Chirag Doshi to lead its fixed income business.\n",
      "Company: Ajay Punjabi, Sentiment : -0.008333333333333331, Context: Other Credit Suisse departees are Sudipto Sinha, an executive director, who is now a business head at Angel One Wealth, as well as Sandipan Roy, the head of product development, who is now the chief investment officer at Motilal Oswal Wealth Management Ltd.Story continues below AdvertisementRemove AdStory continues below AdvertisementRemove AdLiechtenstein royal family-backed LGT Wealth India hired veteran relationship manager Ajay Punjabi as well as Chirag Doshi to lead its fixed income business.\n",
      "Company: Credit Suisse, Sentiment : 0.0, Context: Credit Suisse had just over 40 wealth management employees in India, and around 7,000 people overall in the country, a spokesperson at the bank told Bloomberg News in April last year.\n",
      "Company: Bloomberg News, Sentiment : 0.0, Context: Credit Suisse had just over 40 wealth management employees in India, and around 7,000 people overall in the country, a spokesperson at the bank told Bloomberg News in April last year.\n",
      "Company: UBS, Sentiment : 0.05, Context: About a month ago, UBS’ co-head for Asia-Pacific wealth management Jin Yee Young visited India, which she called a key strategic market.\n",
      "Company : UBS, Total sentiment : -0.007916666666666648\n",
      "Company : Group AG’s, Total sentiment : -0.041666666666666664\n",
      "Company : HSBC Holdings Plc, Total sentiment : 0.0\n",
      "Company : AdvertisementRemove AdUBS, Total sentiment : 0.0\n",
      "Company : Credit Suisse, Total sentiment : 0.4916666666666667\n",
      "Company : Bloomberg News, Total sentiment : -0.07291666666666666\n",
      "Company : Bank of America Corp., Total sentiment : -0.033333333333333326\n",
      "Company : Mercedes-Benz India MD & CEOSuzuki Motor, Total sentiment : 0.056666666666666664\n",
      "Company : HSBC, Total sentiment : 0.056666666666666664\n",
      "Company : Sabharwal, Total sentiment : 0.0\n",
      "Company : Angel One Wealth, Total sentiment : -0.008333333333333331\n",
      "Company : Motilal Oswal Wealth Management Ltd.Story, Total sentiment : -0.008333333333333331\n",
      "Company : AdvertisementRemove AdStory, Total sentiment : -0.008333333333333331\n",
      "Company : AdvertisementRemove AdLiechtenstein, Total sentiment : -0.008333333333333331\n",
      "Company : LGT Wealth, Total sentiment : -0.008333333333333331\n",
      "Company : Ajay Punjabi, Total sentiment : -0.008333333333333331\n"
     ]
    }
   ],
   "source": [
    "'''\n",
    "Now, only trying to do the sentiment analysis and get the name of the company.\n",
    "Spacy will get all the organisation names in the article, but this wont be matched to \n",
    "the stock name on NSE. Also a major issue is there may be 2 companies one having positive\n",
    "news but the sentiment analysis is independent of the org names and hence may catch a \n",
    "false sentiment corresponding the one or more of the companies in the article.\n",
    "Thus we need specific NLP model for finance and not just a general NLP model. But this is\n",
    "just a prototype\n",
    "'''\n",
    "nlp = spacy.load(\"en_core_web_sm\")\n",
    "article_text = latest_news\n",
    "doc = nlp(article_text)\n",
    "def analyze_sentiment(text):\n",
    "    #This function is same as the one that we had defined earlier.\n",
    "    analysis = TextBlob(text)\n",
    "    return analysis.sentiment.polarity\n",
    "company_sentiments = []\n",
    "senti_dict = {}\n",
    "for ent in doc.ents:\n",
    "    if ent.label_ == 'ORG':\n",
    "        sentence = ent.sent\n",
    "        sentiment = analyze_sentiment(sentence.text)\n",
    "        company_sentiments.append((ent.text, sentiment, sentence.text))\n",
    "        if ent.text not in senti_dict:\n",
    "            senti_dict[ent.text] = 0\n",
    "        senti_dict[ent.text] += sentiment\n",
    "\n",
    "for company, sentiment, sentence in company_sentiments:\n",
    "    print((f\"Company: {company}, Sentiment : {sentiment}, Context: {sentence}\"))\n",
    "for i in senti_dict:\n",
    "    print(f\"Company : {i}, Total sentiment : {senti_dict[i]}\")"
   ]
  },
  {
   "cell_type": "code",
   "execution_count": 20,
   "metadata": {},
   "outputs": [
    {
     "name": "stdout",
     "output_type": "stream",
     "text": [
      "Matched Company Name: Punjab National Bank, Symbol: PNB, Score: 65\n"
     ]
    }
   ],
   "source": [
    "'''\n",
    "Now we need to find the closest symbol listed on NSE compared to the name that we find\n",
    "using spacy. \n",
    "We will only be implementing basic functionality for now, so will only match with NSE\n",
    "symbols. Task for later: expand the exchanges list\n",
    "'''\n",
    "import pickle\n",
    "from thefuzz import process\n",
    "with open('company_data.pkl', 'rb') as f:\n",
    "    company_dict = pickle.load(f)\n",
    "def find_closest_company_name(query_name):\n",
    "    closest_name, score = process.extractOne(query_name,company_dict.keys())\n",
    "    return closest_name, company_dict[closest_name], score\n",
    "query_name = \"Ajay Punjabi\"\n",
    "match_name, match_symbol, match_score = find_closest_company_name(query_name)\n",
    "print(f\"Matched Company Name: {match_name}, Symbol: {match_symbol}, Score: {match_score}\")\n",
    "\n"
   ]
  },
  {
   "cell_type": "code",
   "execution_count": null,
   "metadata": {},
   "outputs": [],
   "source": []
  }
 ],
 "metadata": {
  "kernelspec": {
   "display_name": "Python 3",
   "language": "python",
   "name": "python3"
  },
  "language_info": {
   "codemirror_mode": {
    "name": "ipython",
    "version": 3
   },
   "file_extension": ".py",
   "mimetype": "text/x-python",
   "name": "python",
   "nbconvert_exporter": "python",
   "pygments_lexer": "ipython3",
   "version": "3.9.6"
  }
 },
 "nbformat": 4,
 "nbformat_minor": 2
}
