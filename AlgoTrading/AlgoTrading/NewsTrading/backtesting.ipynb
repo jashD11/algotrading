{
 "cells": [
  {
   "cell_type": "code",
   "execution_count": 1,
   "metadata": {},
   "outputs": [],
   "source": [
    "import yfinance as yf\n",
    "import numpy as np\n",
    "import pandas as pd\n",
    "from datetime import datetime, timedelta\n",
    "import matplotlib.pyplot as plt\n",
    "from datetime import datetime, timedelta\n",
    "import pytz\n",
    "import holidays"
   ]
  },
  {
   "cell_type": "code",
   "execution_count": 2,
   "metadata": {},
   "outputs": [],
   "source": [
    "def fetch_intraday_data(symbol, date):\n",
    "\n",
    "    start_datetime = datetime.combine(date, datetime.min.time())\n",
    "    end_datetime = start_datetime + timedelta(days=1)\n",
    "    tickerData = yf.Ticker(symbol)\n",
    "    intraday_data = tickerData.history(start=start_datetime.strftime('%Y-%m-%d'),\n",
    "                                       end=end_datetime.strftime('%Y-%m-%d'),\n",
    "                                       interval='1m')  \n",
    "    if (intraday_data.empty) : return intraday_data\n",
    "    market_start, market_end = \"09:15\", \"15:30\"\n",
    "    intraday_data = intraday_data.between_time(market_start, market_end)\n",
    "\n",
    "    return intraday_data #pd dataframe object"
   ]
  },
  {
   "cell_type": "code",
   "execution_count": 9,
   "metadata": {},
   "outputs": [],
   "source": [
    "# Define the symbol\n",
    "stock_symbols = [\"RELIANCE.NS\", \"TCS.NS\", \"INFY.NS\", \"HDFCBANK.NS\", \"ICICIBANK.NS\"]\n",
    "\n",
    "# Strategy parameters\n",
    "initial_capital = 1000000 * 5  # 5x margin\n",
    "sell_time = datetime.strptime(\"15:05\", \"%H:%M\").time()  # maximum time to sell\n",
    "\n",
    "# Costs\n",
    "brokerage_rate = 20\n",
    "brokerage_percent = 0.0005\n",
    "stt_percent = 0.00025\n",
    "exchange_txn_charge_percent = 0.0000345\n",
    "sebi_turnover_charge_percent = 0.000001\n",
    "stamp_duty_percent = 0.00003\n",
    "start_date = '2024-06-06'\n",
    "end_date = '2024-07-07'\n",
    "trades = []\n",
    "market_start, market_end = \"09:15\", \"15:30\""
   ]
  },
  {
   "cell_type": "code",
   "execution_count": 11,
   "metadata": {},
   "outputs": [],
   "source": [
    "def fetch_news(date , current_time):\n",
    "    symbol = \"TICKER\"\n",
    "    sentiment = 0.3\n",
    "    return symbol,sentiment\n",
    "#if this company is a part of the current list then on the basis of the date ,time and sentiment of the news received \n",
    "# a buy order will be executed with a particular target and stop loss on th basis of which the sell order will later take place\n",
    "#This will also confirm that the order taking place is time synchornized with the news and the price\n"
   ]
  },
  {
   "cell_type": "code",
   "execution_count": 15,
   "metadata": {},
   "outputs": [],
   "source": [
    "\n",
    "for date in pd.date_range(start_date, end_date, freq='B'):\n",
    "    # Check if the date is a public holiday in India. This is kinda redundant but meh\n",
    "    bought = False\n",
    "    if date in holidays.CountryHoliday('IND', years=date.year).keys():\n",
    "        continue\n",
    "    #NEED TO DEFINE THE FREQUENCY OF CHECKING THE NEWS!!!\n",
    "    time_gap = timedelta(minutes=5)#ASSuming 5 minutes for now\n",
    "    current_time = datetime.strptime(market_start, \"%H:%M\")\n",
    "    while(current_time<=datetime.strptime(market_end,\"%H:%M\")):\n",
    "        symbol , sentiment = fetch_news(date , current_time)\n",
    "        if not bought and buy_signal(sentiment):\n",
    "            #Currently it can only buy 1 stock at a time\n",
    "            target , stop_loss = buy(sentiment)\n",
    "            #Buy\n",
    "            \n",
    "\n",
    "        \n",
    "\n",
    "        \n",
    "\n",
    "        current_time = current_time+time_gap"
   ]
  },
  {
   "cell_type": "code",
   "execution_count": 18,
   "metadata": {},
   "outputs": [],
   "source": [
    "def buy_signal(sentiment):\n",
    "    #LATER MODIFY THE AMOUNT TO BE PUT IN THE TRADE IN ACCORDANCE TO THE SENTIMENT ie ACCORDING TO THE CONFIDENCE\n",
    "    if sentiment < 0:\n",
    "        return False\n",
    "\n",
    "def buy(sentiment):\n",
    "    if sentiment <= 0.3:\n",
    "        stop_loss = 3 \n",
    "        target = 5 \n",
    "    elif sentiment <= 0.7:\n",
    "        stop_loss = 5  \n",
    "        target = 10  \n",
    "    else:\n",
    "        stop_loss = 10\n",
    "        target = 20\n",
    "    return stop_loss , target\n",
    "        #These are approximate values of percentage change in current share price to be kept as target and stop loss\n",
    "        #Better values or even a better algorithm can be used in the future\n",
    "\n",
    "        "
   ]
  }
 ],
 "metadata": {
  "kernelspec": {
   "display_name": "Python 3",
   "language": "python",
   "name": "python3"
  },
  "language_info": {
   "codemirror_mode": {
    "name": "ipython",
    "version": 3
   },
   "file_extension": ".py",
   "mimetype": "text/x-python",
   "name": "python",
   "nbconvert_exporter": "python",
   "pygments_lexer": "ipython3",
   "version": "3.9.6"
  }
 },
 "nbformat": 4,
 "nbformat_minor": 2
}
